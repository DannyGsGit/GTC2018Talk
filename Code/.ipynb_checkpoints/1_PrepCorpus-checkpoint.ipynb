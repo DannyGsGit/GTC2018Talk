{
 "cells": [
  {
   "cell_type": "markdown",
   "metadata": {},
   "source": [
    "# Word Vector- Example\n",
    "This notebook sets up a word vectorization workflow on a toy example. Sentences are made up of spelled-out even and odd numbers."
   ]
  },
  {
   "cell_type": "markdown",
   "metadata": {},
   "source": [
    "## Setup\n",
    "Import necesarry libraries and configure run settings:"
   ]
  },
  {
   "cell_type": "code",
   "execution_count": 1,
   "metadata": {},
   "outputs": [],
   "source": [
    "import os, math, csv, re, itertools\n",
    "import numpy as np\n",
    "import pandas as pd\n",
    "from collections import Counter\n",
    "import jellyfish as jyfs\n",
    "import datetime, time\n",
    "import pickle\n",
    "import matplotlib.pyplot as plt\n",
    "import inflect\n",
    "from random import *"
   ]
  },
  {
   "cell_type": "markdown",
   "metadata": {},
   "source": [
    "## Obtain Corpus\n",
    "\n",
    "We will import the CAB item description dataset in this section. The names must be contained within a list type object of format:\n",
    "\n",
    "['Sentence 1', 'Sentence 2', 'Sentence 3']"
   ]
  },
  {
   "cell_type": "code",
   "execution_count": 2,
   "metadata": {},
   "outputs": [],
   "source": [
    "ItemDescription = {}\n",
    "ItemPartNumber = {}\n",
    "i = 0\n",
    "\n",
    "with open('../Data/Private/CAB_ItemVersion.csv') as csvfile:\n",
    "    reader = csv.DictReader(csvfile)\n",
    "    for row in reader:\n",
    "        ItemDescription[i] = row['ItemDescription']\n",
    "        ItemPartNumber[i] = row['ItemNumber']\n",
    "        i += 1"
   ]
  },
  {
   "cell_type": "code",
   "execution_count": 3,
   "metadata": {},
   "outputs": [],
   "source": [
    "# Extract list of part descriptions and numbers\n",
    "ItemDescriptionList = [(v) for k,v in ItemDescription.items()]\n",
    "ItemPartNumberList = [(v) for k,v in ItemPartNumber.items()]"
   ]
  },
  {
   "cell_type": "markdown",
   "metadata": {},
   "source": [
    "## Text Processing\n",
    "Some light text processing will be performed to remove numbers, punctuation, special characters, whitespace and single-character words."
   ]
  },
  {
   "cell_type": "code",
   "execution_count": 4,
   "metadata": {},
   "outputs": [
    {
     "data": {
      "text/plain": [
       "['AIR CLEANER BAND',\n",
       " '2-1/2ODX.250W AL TUBE',\n",
       " 'AL TUBE 4 OD X .064 W T4',\n",
       " '5-1/2ODX.062W AL TUBE',\n",
       " '6 OD X.058W AL TUBE',\n",
       " '6 OD X.125W AL TUBE',\n",
       " '7 OD X.125W AL TUBE',\n",
       " 'WHEEL SAFETY/SVCE MANUAL',\n",
       " 'WHL SERV MANUAL-SPANISH',\n",
       " 'ALUMINUM COIL STOCK (ALL)']"
      ]
     },
     "execution_count": 4,
     "metadata": {},
     "output_type": "execute_result"
    }
   ],
   "source": [
    "ItemDescriptionList[0:10]"
   ]
  },
  {
   "cell_type": "markdown",
   "metadata": {},
   "source": [
    "### Basics\n",
    "Remove all non-letters, whitespace and single characters, lower space."
   ]
  },
  {
   "cell_type": "code",
   "execution_count": 5,
   "metadata": {},
   "outputs": [
    {
     "data": {
      "text/plain": [
       "['air cleaner band',\n",
       " 'odx al tube',\n",
       " 'al tube od',\n",
       " 'odx al tube',\n",
       " 'od al tube',\n",
       " 'od al tube',\n",
       " 'od al tube',\n",
       " 'wheel safety svce manual',\n",
       " 'whl serv manual spanish',\n",
       " 'aluminum coil stock all']"
      ]
     },
     "execution_count": 5,
     "metadata": {},
     "output_type": "execute_result"
    }
   ],
   "source": [
    "sentences = [re.sub('[^A-Za-z]', ' ', e) for e in ItemDescriptionList] # Remove all non-letter characters\n",
    "sentences = [re.sub('\\s+', ' ', e).strip().lower() for e in sentences] # Strip excess whitespace and lower case\n",
    "sentences = [' '.join( [w for w in sent.split() if len(w)>1] ) for sent in sentences] # Remove single character \"words\n",
    "sentences[0:10]"
   ]
  },
  {
   "cell_type": "markdown",
   "metadata": {},
   "source": [
    "### Resolve Typos/Abbreviations\n",
    "The next text processing step is to attempt to remediate misspellings and abbreviations with string matching patterns. First step is to generate a list of unique words."
   ]
  },
  {
   "cell_type": "markdown",
   "metadata": {},
   "source": [
    "First, we need a term frequency list."
   ]
  },
  {
   "cell_type": "code",
   "execution_count": 6,
   "metadata": {},
   "outputs": [],
   "source": [
    "wordList = \" \".join(sentences).split()\n",
    "counts = Counter(wordList)"
   ]
  },
  {
   "cell_type": "code",
   "execution_count": 7,
   "metadata": {},
   "outputs": [
    {
     "data": {
      "image/png": "[encoded data removed]",
      "text/plain": [
       "<matplotlib.figure.Figure at 0x7fb26ea6b470>"
      ]
     },
     "metadata": {},
     "output_type": "display_data"
    }
   ],
   "source": [
    "# Make a data frame of words, their counts, and original/new index values (not yet modified)\n",
    "\n",
    "## Convert counter to data frame\n",
    "wordcount = pd.DataFrame.from_dict(counts, orient='index').reset_index()\n",
    "wordcount = wordcount.rename(columns={'index':'word', 0:'count'})\n",
    "## Sort in descending order of count and reset index\n",
    "wordcount = wordcount.sort_values('count', ascending=False).reset_index(drop = True)\n",
    "## Copy index into original and new index columns\n",
    "wordcount['og_index'] = wordcount['new_index'] = wordcount.index.values\n",
    "wordcount['new_word'] = wordcount['word']\n",
    "\n",
    "# Check it out\n",
    "plt.hist(wordcount['count'])\n",
    "plt.yscale('log', nonposy='clip')\n",
    "plt.show()"
   ]
  },
  {
   "cell_type": "markdown",
   "metadata": {},
   "source": [
    "Now we iterate down the list and examine Jaro Winkler distances as we go. If a distance is above our threshold, we update the \"new index\" value to the match."
   ]
  },
  {
   "cell_type": "code",
   "execution_count": 8,
   "metadata": {},
   "outputs": [
    {
     "name": "stdout",
     "output_type": "stream",
     "text": [
      "Completed:  100\n",
      "Distance Threshold:  0.9740141148948647\n",
      "================================================\n",
      "Completed:  200\n",
      "Distance Threshold:  0.9684340036458587\n",
      "================================================\n",
      "Completed:  300\n",
      "Distance Threshold:  0.9644319793332964\n",
      "================================================\n",
      "Completed:  400\n",
      "Distance Threshold:  0.960952506350742\n",
      "================================================\n",
      "Completed:  500\n",
      "Distance Threshold:  0.9583363948286313\n",
      "================================================\n",
      "Completed:  600\n",
      "Distance Threshold:  0.9562032518407266\n",
      "================================================\n",
      "Completed:  700\n",
      "Distance Threshold:  0.9540825777685408\n",
      "================================================\n",
      "Completed:  800\n",
      "Distance Threshold:  0.9526364354654147\n",
      "================================================\n",
      "Completed:  900\n",
      "Distance Threshold:  0.9506787995940942\n",
      "================================================\n",
      "Completed:  1000\n",
      "Distance Threshold:  0.9489982943915144\n",
      "================================================\n",
      "Completed:  1100\n",
      "Distance Threshold:  0.947608467247143\n",
      "================================================\n",
      "Completed:  1200\n",
      "Distance Threshold:  0.9464604137583945\n",
      "================================================\n",
      "Completed:  1300\n",
      "Distance Threshold:  0.9451285083469352\n",
      "================================================\n",
      "Completed:  1400\n",
      "Distance Threshold:  0.9438069655584598\n",
      "================================================\n",
      "Completed:  1500\n",
      "Distance Threshold:  0.9428418215128216\n",
      "================================================\n",
      "Completed:  1600\n",
      "Distance Threshold:  0.9418604193391131\n",
      "================================================\n",
      "Completed:  1700\n",
      "Distance Threshold:  0.940747797319739\n",
      "================================================\n",
      "Completed:  1800\n",
      "Distance Threshold:  0.9397507182119753\n",
      "================================================\n",
      "Completed:  1900\n",
      "Distance Threshold:  0.9388571175671712\n",
      "================================================\n",
      "Completed:  2000\n",
      "Distance Threshold:  0.9381178093548964\n",
      "================================================\n",
      "Completed:  2100\n",
      "Distance Threshold:  0.9374006109257811\n",
      "================================================\n",
      "Completed:  2200\n",
      "Distance Threshold:  0.9366158159247013\n",
      "================================================\n",
      "Completed:  2300\n",
      "Distance Threshold:  0.9358627098946246\n",
      "================================================\n",
      "Completed:  2400\n",
      "Distance Threshold:  0.9352797947868099\n",
      "================================================\n",
      "Completed:  2500\n",
      "Distance Threshold:  0.9345217917316188\n",
      "================================================\n",
      "Completed:  2600\n",
      "Distance Threshold:  0.9338327805406114\n",
      "================================================\n",
      "Completed:  2700\n",
      "Distance Threshold:  0.9332373638730733\n",
      "================================================\n",
      "Completed:  2800\n",
      "Distance Threshold:  0.932596102314132\n",
      "================================================\n",
      "Completed:  2900\n",
      "Distance Threshold:  0.9319013427351819\n",
      "================================================\n",
      "Completed:  3000\n",
      "Distance Threshold:  0.9313394025610171\n",
      "================================================\n",
      "Completed:  3100\n",
      "Distance Threshold:  0.9309425519403223\n",
      "================================================\n",
      "Completed:  3200\n",
      "Distance Threshold:  0.9303094154800183\n",
      "================================================\n",
      "Completed:  3300\n",
      "Distance Threshold:  0.9298589118214454\n",
      "================================================\n",
      "Completed:  3400\n",
      "Distance Threshold:  0.9291339079697524\n",
      "================================================\n",
      "Completed:  3500\n",
      "Distance Threshold:  0.928612970349996\n",
      "================================================\n",
      "Completed:  3600\n",
      "Distance Threshold:  0.928339756103015\n",
      "================================================\n",
      "Completed:  3700\n",
      "Distance Threshold:  0.927764887628363\n",
      "================================================\n",
      "Completed:  3800\n",
      "Distance Threshold:  0.927461861943526\n",
      "================================================\n",
      "Completed:  3900\n",
      "Distance Threshold:  0.9268206003845846\n",
      "================================================\n",
      "Completed:  4000\n",
      "Distance Threshold:  0.9264804597698175\n",
      "================================================\n",
      "Completed:  4100\n",
      "Distance Threshold:  0.9261258408056345\n",
      "================================================\n",
      "Completed:  4200\n",
      "Distance Threshold:  0.9257554559181245\n",
      "================================================\n",
      "Completed:  4300\n",
      "Distance Threshold:  0.9249613040513871\n",
      "================================================\n",
      "Completed:  4400\n",
      "Distance Threshold:  0.924533913550471\n",
      "================================================\n",
      "Completed:  4500\n",
      "Distance Threshold:  0.924533913550471\n",
      "================================================\n",
      "Completed:  4600\n",
      "Distance Threshold:  0.9240834098918981\n",
      "================================================\n",
      "Completed:  4700\n",
      "Distance Threshold:  0.9236071495265946\n",
      "================================================\n",
      "Completed:  4800\n",
      "Distance Threshold:  0.9231020077181896\n",
      "================================================\n",
      "Completed:  4900\n",
      "Distance Threshold:  0.9225642541734677\n",
      "================================================\n",
      "Completed:  5000\n",
      "Distance Threshold:  0.9225642541734677\n",
      "================================================\n",
      "Completed:  5100\n",
      "Distance Threshold:  0.9219893856988155\n",
      "================================================\n",
      "Completed:  5200\n",
      "Distance Threshold:  0.9213718967322978\n",
      "================================================\n",
      "Completed:  5300\n",
      "Distance Threshold:  0.9213718967322978\n",
      "================================================\n",
      "Completed:  5400\n",
      "Distance Threshold:  0.9207049578402702\n",
      "================================================\n",
      "Completed:  5500\n",
      "Distance Threshold:  0.9207049578402702\n",
      "================================================\n",
      "Completed:  5600\n",
      "Distance Threshold:  0.919979953988577\n",
      "================================================\n",
      "Completed:  5700\n",
      "Distance Threshold:  0.919979953988577\n",
      "================================================\n",
      "Completed:  5800\n",
      "Distance Threshold:  0.9191858021218398\n",
      "================================================\n",
      "Completed:  5900\n",
      "Distance Threshold:  0.9191858021218398\n",
      "================================================\n",
      "Completed:  6000\n",
      "Distance Threshold:  0.9191858021218398\n",
      "================================================\n",
      "Completed:  6100\n",
      "Distance Threshold:  0.9183079079623506\n",
      "================================================\n",
      "Completed:  6200\n",
      "Distance Threshold:  0.9183079079623506\n",
      "================================================\n",
      "Completed:  6300\n",
      "Distance Threshold:  0.9183079079623506\n",
      "================================================\n",
      "Completed:  6400\n",
      "Distance Threshold:  0.9173265057886423\n",
      "================================================\n",
      "Completed:  6500\n",
      "Distance Threshold:  0.9173265057886423\n",
      "================================================\n",
      "Completed:  6600\n",
      "Distance Threshold:  0.9173265057886423\n",
      "================================================\n",
      "Completed:  6700\n",
      "Distance Threshold:  0.9162138837692682\n",
      "================================================\n",
      "Completed:  6800\n",
      "Distance Threshold:  0.9162138837692682\n",
      "================================================\n",
      "Completed:  6900\n",
      "Distance Threshold:  0.9162138837692682\n",
      "================================================\n",
      "Completed:  7000\n",
      "Distance Threshold:  0.9162138837692682\n",
      "================================================\n",
      "Completed:  7100\n",
      "Distance Threshold:  0.9149294559107227\n",
      "================================================\n",
      "Completed:  7200\n",
      "Distance Threshold:  0.9149294559107227\n",
      "================================================\n",
      "Completed:  7300\n",
      "Distance Threshold:  0.9149294559107227\n",
      "================================================\n",
      "Completed:  7400\n",
      "Distance Threshold:  0.9149294559107227\n",
      "================================================\n",
      "Completed:  7500\n",
      "Distance Threshold:  0.9149294559107227\n",
      "================================================\n",
      "Completed:  7600\n",
      "Distance Threshold:  0.9149294559107227\n",
      "================================================\n",
      "Completed:  7700\n",
      "Distance Threshold:  0.9134103001922923\n",
      "================================================\n",
      "Completed:  7800\n",
      "Distance Threshold:  0.9134103001922923\n",
      "================================================\n"
     ]
    },
    {
     "name": "stdout",
     "output_type": "stream",
     "text": [
      "Completed:  7900\n",
      "Distance Threshold:  0.9134103001922923\n",
      "================================================\n",
      "Completed:  8000\n",
      "Distance Threshold:  0.9134103001922923\n",
      "================================================\n",
      "Completed:  8100\n",
      "Distance Threshold:  0.9134103001922923\n",
      "================================================\n",
      "Completed:  8200\n",
      "Distance Threshold:  0.9134103001922923\n",
      "================================================\n",
      "Completed:  8300\n",
      "Distance Threshold:  0.9134103001922923\n",
      "================================================\n",
      "Completed:  8400\n",
      "Distance Threshold:  0.9115510038590948\n",
      "================================================\n",
      "Completed:  8500\n",
      "Distance Threshold:  0.9115510038590948\n",
      "================================================\n",
      "Completed:  8600\n",
      "Distance Threshold:  0.9115510038590948\n",
      "================================================\n",
      "Completed:  8700\n",
      "Distance Threshold:  0.9115510038590948\n",
      "================================================\n",
      "Completed:  8800\n",
      "Distance Threshold:  0.9115510038590948\n",
      "================================================\n",
      "Completed:  8900\n",
      "Distance Threshold:  0.9115510038590948\n",
      "================================================\n",
      "Completed:  9000\n",
      "Distance Threshold:  0.9115510038590948\n",
      "================================================\n",
      "Completed:  9100\n",
      "Distance Threshold:  0.9115510038590948\n",
      "================================================\n",
      "Completed:  9200\n",
      "Distance Threshold:  0.9115510038590948\n",
      "================================================\n",
      "Completed:  9300\n",
      "Distance Threshold:  0.9115510038590948\n",
      "================================================\n",
      "Completed:  9400\n",
      "Distance Threshold:  0.9115510038590948\n",
      "================================================\n",
      "Completed:  9500\n",
      "Distance Threshold:  0.9091539539811754\n",
      "================================================\n",
      "Completed:  9600\n",
      "Distance Threshold:  0.9091539539811754\n",
      "================================================\n",
      "Completed:  9700\n",
      "Distance Threshold:  0.9091539539811754\n",
      "================================================\n",
      "Completed:  9800\n",
      "Distance Threshold:  0.9091539539811754\n",
      "================================================\n",
      "Completed:  9900\n",
      "Distance Threshold:  0.9091539539811754\n",
      "================================================\n",
      "Completed:  10000\n",
      "Distance Threshold:  0.9091539539811754\n",
      "================================================\n",
      "Completed:  10100\n",
      "Distance Threshold:  0.9091539539811754\n",
      "================================================\n",
      "Completed:  10200\n",
      "Distance Threshold:  0.9091539539811754\n",
      "================================================\n",
      "Completed:  10300\n",
      "Distance Threshold:  0.9091539539811754\n",
      "================================================\n",
      "Completed:  10400\n",
      "Distance Threshold:  0.9091539539811754\n",
      "================================================\n",
      "Completed:  10500\n",
      "Distance Threshold:  0.9091539539811754\n",
      "================================================\n",
      "Completed:  10600\n",
      "Distance Threshold:  0.9091539539811754\n",
      "================================================\n",
      "Completed:  10700\n",
      "Distance Threshold:  0.9091539539811754\n",
      "================================================\n",
      "Completed:  10800\n",
      "Distance Threshold:  0.9057755019295475\n",
      "================================================\n",
      "Completed:  10900\n",
      "Distance Threshold:  0.9057755019295475\n",
      "================================================\n",
      "Completed:  11000\n",
      "Distance Threshold:  0.9057755019295475\n",
      "================================================\n",
      "Completed:  11100\n",
      "Distance Threshold:  0.9057755019295475\n",
      "================================================\n",
      "Completed:  11200\n",
      "Distance Threshold:  0.9057755019295475\n",
      "================================================\n",
      "Completed:  11300\n",
      "Distance Threshold:  0.9057755019295475\n",
      "================================================\n",
      "Completed:  11400\n",
      "Distance Threshold:  0.9057755019295475\n",
      "================================================\n",
      "Completed:  11500\n",
      "Distance Threshold:  0.9057755019295475\n",
      "================================================\n",
      "Completed:  11600\n",
      "Distance Threshold:  0.9057755019295475\n",
      "================================================\n",
      "Completed:  11700\n",
      "Distance Threshold:  0.9057755019295475\n",
      "================================================\n",
      "Completed:  11800\n",
      "Distance Threshold:  0.9057755019295475\n",
      "================================================\n",
      "Completed:  11900\n",
      "Distance Threshold:  0.9057755019295475\n",
      "================================================\n",
      "Completed:  12000\n",
      "Distance Threshold:  0.9057755019295475\n",
      "================================================\n",
      "Completed:  12100\n",
      "Distance Threshold:  0.9057755019295475\n",
      "================================================\n",
      "Completed:  12200\n",
      "Distance Threshold:  0.9057755019295475\n",
      "================================================\n",
      "Completed:  12300\n",
      "Distance Threshold:  0.9057755019295475\n",
      "================================================\n",
      "Completed:  12400\n",
      "Distance Threshold:  0.9057755019295475\n",
      "================================================\n",
      "Completed:  12500\n",
      "Distance Threshold:  0.9057755019295475\n",
      "================================================\n",
      "Completed:  12600\n",
      "Distance Threshold:  0.9057755019295475\n",
      "================================================\n",
      "Completed:  12700\n",
      "Distance Threshold:  0.9057755019295475\n",
      "================================================\n",
      "Completed:  12800\n",
      "Distance Threshold:  0.9057755019295475\n",
      "================================================\n",
      "Completed:  12900\n",
      "Distance Threshold:  0.9057755019295475\n",
      "================================================\n",
      "Completed:  13000\n",
      "Distance Threshold:  0.9057755019295475\n",
      "================================================\n",
      "Completed:  13100\n",
      "Distance Threshold:  0.9057755019295475\n",
      "================================================\n",
      "Completed:  13200\n",
      "Distance Threshold:  0.9057755019295475\n",
      "================================================\n",
      "Completed:  13300\n",
      "Distance Threshold:  0.9057755019295475\n",
      "================================================\n",
      "Completed:  13400\n",
      "Distance Threshold:  0.9057755019295475\n",
      "================================================\n",
      "Completed:  13500\n",
      "Distance Threshold:  0.9057755019295475\n",
      "================================================\n",
      "Completed:  13600\n",
      "Distance Threshold:  0.9057755019295475\n",
      "================================================\n",
      "Completed:  13700\n",
      "Distance Threshold:  0.9\n",
      "================================================\n",
      "Completed:  13800\n",
      "Distance Threshold:  0.9\n",
      "================================================\n",
      "Completed:  13900\n",
      "Distance Threshold:  0.9\n",
      "================================================\n",
      "Completed:  14000\n",
      "Distance Threshold:  0.9\n",
      "================================================\n",
      "Completed:  14100\n",
      "Distance Threshold:  0.9\n",
      "================================================\n",
      "Completed:  14200\n",
      "Distance Threshold:  0.9\n",
      "================================================\n",
      "Completed:  14300\n",
      "Distance Threshold:  0.9\n",
      "================================================\n",
      "Completed:  14400\n",
      "Distance Threshold:  0.9\n",
      "================================================\n",
      "Completed:  14500\n",
      "Distance Threshold:  0.9\n",
      "================================================\n",
      "Completed:  14600\n",
      "Distance Threshold:  0.9\n",
      "================================================\n",
      "Completed:  14700\n",
      "Distance Threshold:  0.9\n",
      "================================================\n",
      "Completed:  14800\n",
      "Distance Threshold:  0.9\n",
      "================================================\n",
      "Completed:  14900\n",
      "Distance Threshold:  0.9\n",
      "================================================\n",
      "Completed:  15000\n",
      "Distance Threshold:  0.9\n",
      "================================================\n",
      "Completed:  15100\n",
      "Distance Threshold:  0.9\n",
      "================================================\n",
      "Completed:  15200\n",
      "Distance Threshold:  0.9\n",
      "================================================\n",
      "Completed:  15300\n",
      "Distance Threshold:  0.9\n",
      "================================================\n",
      "Completed:  15400\n",
      "Distance Threshold:  0.9\n",
      "================================================\n",
      "Completed:  15500\n",
      "Distance Threshold:  0.9\n",
      "================================================\n",
      "Completed:  15600\n",
      "Distance Threshold:  0.9\n",
      "================================================\n",
      "Completed:  15700\n",
      "Distance Threshold:  0.9\n",
      "================================================\n",
      "Completed:  15800\n",
      "Distance Threshold:  0.9\n",
      "================================================\n"
     ]
    },
    {
     "name": "stdout",
     "output_type": "stream",
     "text": [
      "Completed:  15900\n",
      "Distance Threshold:  0.9\n",
      "================================================\n",
      "Completed:  16000\n",
      "Distance Threshold:  0.9\n",
      "================================================\n",
      "Completed:  16100\n",
      "Distance Threshold:  0.9\n",
      "================================================\n",
      "Completed:  16200\n",
      "Distance Threshold:  0.9\n",
      "================================================\n",
      "Completed:  16300\n",
      "Distance Threshold:  0.9\n",
      "================================================\n",
      "Completed:  16400\n",
      "Distance Threshold:  0.9\n",
      "================================================\n",
      "Completed:  16500\n",
      "Distance Threshold:  0.9\n",
      "================================================\n",
      "Completed:  16600\n",
      "Distance Threshold:  0.9\n",
      "================================================\n",
      "Completed:  16700\n",
      "Distance Threshold:  0.9\n",
      "================================================\n",
      "Completed:  16800\n",
      "Distance Threshold:  0.9\n",
      "================================================\n",
      "Completed:  16900\n",
      "Distance Threshold:  0.9\n",
      "================================================\n",
      "Completed:  17000\n",
      "Distance Threshold:  0.9\n",
      "================================================\n",
      "Completed:  17100\n",
      "Distance Threshold:  0.9\n",
      "================================================\n",
      "Completed:  17200\n",
      "Distance Threshold:  0.9\n",
      "================================================\n",
      "Completed:  17300\n",
      "Distance Threshold:  0.9\n",
      "================================================\n",
      "Completed:  17400\n",
      "Distance Threshold:  0.9\n",
      "================================================\n",
      "Completed:  17500\n",
      "Distance Threshold:  0.9\n",
      "================================================\n",
      "Completed:  17600\n",
      "Distance Threshold:  0.9\n",
      "================================================\n",
      "Completed:  17700\n",
      "Distance Threshold:  0.9\n",
      "================================================\n",
      "Completed:  17800\n",
      "Distance Threshold:  0.9\n",
      "================================================\n",
      "Completed:  17900\n",
      "Distance Threshold:  0.9\n",
      "================================================\n",
      "Completed:  18000\n",
      "Distance Threshold:  0.9\n",
      "================================================\n",
      "Completed:  18100\n",
      "Distance Threshold:  0.9\n",
      "================================================\n",
      "Completed:  18200\n",
      "Distance Threshold:  0.9\n",
      "================================================\n",
      "Completed:  18300\n",
      "Distance Threshold:  0.9\n",
      "================================================\n",
      "Completed:  18400\n",
      "Distance Threshold:  0.9\n",
      "================================================\n",
      "Completed:  18500\n",
      "Distance Threshold:  0.9\n",
      "================================================\n",
      "Completed:  18600\n",
      "Distance Threshold:  0.9\n",
      "================================================\n",
      "Completed:  18700\n",
      "Distance Threshold:  0.9\n",
      "================================================\n",
      "Completed:  18800\n",
      "Distance Threshold:  0.9\n",
      "================================================\n",
      "Completed:  18900\n",
      "Distance Threshold:  0.9\n",
      "================================================\n",
      "Completed:  19000\n",
      "Distance Threshold:  0.9\n",
      "================================================\n",
      "Completed:  19100\n",
      "Distance Threshold:  0.9\n",
      "================================================\n",
      "Completed:  19200\n",
      "Distance Threshold:  0.9\n",
      "================================================\n",
      "Completed:  19300\n",
      "Distance Threshold:  0.9\n",
      "================================================\n",
      "Completed:  19400\n",
      "Distance Threshold:  0.9\n",
      "================================================\n",
      "Completed:  19500\n",
      "Distance Threshold:  0.9\n",
      "================================================\n",
      "Completed:  19600\n",
      "Distance Threshold:  0.9\n",
      "================================================\n",
      "Completed:  19700\n",
      "Distance Threshold:  0.9\n",
      "================================================\n",
      "Completed:  19800\n",
      "Distance Threshold:  0.9\n",
      "================================================\n",
      "Completed:  19900\n",
      "Distance Threshold:  0.9\n",
      "================================================\n",
      "Completed:  20000\n",
      "Distance Threshold:  0.9\n",
      "================================================\n",
      "Completed:  20100\n",
      "Distance Threshold:  0.9\n",
      "================================================\n",
      "Completed:  20200\n",
      "Distance Threshold:  0.9\n",
      "================================================\n",
      "Completed:  20300\n",
      "Distance Threshold:  0.9\n",
      "================================================\n",
      "Completed:  20400\n",
      "Distance Threshold:  0.9\n",
      "================================================\n",
      "Completed:  20500\n",
      "Distance Threshold:  0.9\n",
      "================================================\n",
      "Completed:  20600\n",
      "Distance Threshold:  0.9\n",
      "================================================\n",
      "Completed:  20700\n",
      "Distance Threshold:  0.9\n",
      "================================================\n",
      "Completed:  20800\n",
      "Distance Threshold:  0.9\n",
      "================================================\n",
      "Completed:  20900\n",
      "Distance Threshold:  0.9\n",
      "================================================\n",
      "Completed:  21000\n",
      "Distance Threshold:  0.9\n",
      "================================================\n",
      "Completed:  21100\n",
      "Distance Threshold:  0.9\n",
      "================================================\n",
      "Completed:  21200\n",
      "Distance Threshold:  0.9\n",
      "================================================\n",
      "Completed:  21300\n",
      "Distance Threshold:  0.9\n",
      "================================================\n",
      "Completed:  21400\n",
      "Distance Threshold:  0.9\n",
      "================================================\n",
      "Completed:  21500\n",
      "Distance Threshold:  0.9\n",
      "================================================\n"
     ]
    }
   ],
   "source": [
    "# Prep word matrices\n",
    "originalWords = wordcount.copy()\n",
    "condensedWords = pd.DataFrame()\n",
    "scores = []\n",
    "\n",
    "# Set distance threshold\n",
    "def distanceSet(currentCount, maxCount, baseline = 0.9):\n",
    "    # This function sets a logarithmically increasing Jaro-Winkler distance threshold\n",
    "    # based on the number of occurences of a word in the corpus.\n",
    "    threshold = baseline + ((math.log(currentCount) / math.log(maxCount)) / (1/(1 - baseline)))\n",
    "    return threshold\n",
    "\n",
    "\n",
    "# Initialize loop parameters\n",
    "cont_iteration = (len(originalWords) >= 1)\n",
    "\n",
    "while cont_iteration == True:\n",
    "    # Pop top word from originalWords\n",
    "    originalWords, targetRecord = originalWords.drop(originalWords.head(1).index),originalWords.head(1)\n",
    "    \n",
    "    # Score against condensed newWords\n",
    "    ## Pull out the targetWord\n",
    "    targetWord = targetRecord.iloc[0]['word']\n",
    "    targetIndex = targetRecord.iloc[0]['og_index']\n",
    "    targetCount = targetRecord.iloc[0]['count']\n",
    "    distanceThreshold = distanceSet(currentCount = targetCount, maxCount = 163000, baseline = 0.9)\n",
    "    \n",
    "    ## Score against condensed word list (if it exists)    \n",
    "    if len(condensedWords) > 0:\n",
    "        scores = [jyfs.jaro_winkler(targetWord, comp) for comp in condensedWords['new_word']]\n",
    "        \n",
    "        ## If a score has passed the threshold, update record with the new word\n",
    "        if max(scores) >= distanceThreshold:\n",
    "            ## Get the index of the match\n",
    "            matchPointer = scores.index(max(scores))\n",
    "            \n",
    "            ## Create a new targetRecord with the match\n",
    "            matchWord = condensedWords.iloc[matchPointer]['new_word']\n",
    "            matchIndex = condensedWords.iloc[matchPointer]['new_index']\n",
    "            # print(\"Match found: Target-\", targetWord, \" Match-\", matchWord)\n",
    "            targetRecord = pd.DataFrame({'word': targetWord,\n",
    "                                                'new_word': matchWord,\n",
    "                                                'og_index': int(targetIndex),\n",
    "                                                'new_index': int(matchIndex)},\n",
    "                                        index = [0])\n",
    "    \n",
    "    # Append to condensed words\n",
    "    condensedWords = condensedWords.append(targetRecord)\n",
    "    \n",
    "    # Reset iteration checker\n",
    "    cont_iteration = (len(originalWords) >= 1)\n",
    "    \n",
    "    # Status update\n",
    "    if len(condensedWords) % 1000 == 0:\n",
    "        print(\"Completed: \", len(condensedWords))\n",
    "        print(\"Distance Threshold: \", distanceThreshold)\n",
    "        print(\"================================================\")"
   ]
  },
  {
   "cell_type": "markdown",
   "metadata": {},
   "source": [
    "Now save the results to a CSV and a pickle."
   ]
  },
  {
   "cell_type": "code",
   "execution_count": null,
   "metadata": {},
   "outputs": [],
   "source": [
    "condensedWords.to_csv(\"./tempfiles/condensedWords.csv\")\n",
    "condensedWords_filename = (\"./tempfiles/condensedWords_final.p\")\n",
    "condensedWords.to_pickle(condensedWords_filename)"
   ]
  },
  {
   "cell_type": "code",
   "execution_count": 135,
   "metadata": {},
   "outputs": [],
   "source": [
    "condensedWords = pd.read_pickle(condensedWords_filename)"
   ]
  },
  {
   "cell_type": "markdown",
   "metadata": {},
   "source": [
    "Next, we need to re-map the part descriptions to use the new words."
   ]
  },
  {
   "cell_type": "code",
   "execution_count": 136,
   "metadata": {},
   "outputs": [],
   "source": [
    "# Build the replacement map using original words as indeces\n",
    "wordReplacement_map = {}\n",
    "\n",
    "for record in range(0, (len(condensedWords))):\n",
    "    old_word = condensedWords.iloc[record]['word']\n",
    "    new_word = condensedWords.iloc[record]['new_word']\n",
    "    wordReplacement_map[old_word] = new_word"
   ]
  },
  {
   "cell_type": "code",
   "execution_count": 137,
   "metadata": {},
   "outputs": [],
   "source": [
    "# Apply mappings to sentences using the above map.\n",
    "## Initiate an empty list to catch the new sentences\n",
    "new_sentences = []\n",
    "\n",
    "## Loop through sentences and replace words\n",
    "for sent in sentences:\n",
    "    # Tokenize the sentence\n",
    "    tokenized_sent = sent.split()\n",
    "    \n",
    "    # Prep an empty sentence to reconstruct the tokenized sentence with new words\n",
    "    temp_sent = []\n",
    "    \n",
    "    # Rebuild the sentence using the word-new word map\n",
    "    [temp_sent.append(wordReplacement_map[word]) for word in tokenized_sent]\n",
    "    # Join the sentence\n",
    "    temp_sent = \" \".join(temp_sent)\n",
    "    # Append the new sentence to the new_sentence list\n",
    "    new_sentences.append(temp_sent)"
   ]
  },
  {
   "cell_type": "markdown",
   "metadata": {},
   "source": [
    "### Append Base PNs"
   ]
  },
  {
   "cell_type": "code",
   "execution_count": 138,
   "metadata": {},
   "outputs": [
    {
     "data": {
      "text/plain": [
       "['AAHzerozero',\n",
       " 'AAR',\n",
       " 'ABA',\n",
       " 'ABH',\n",
       " 'ABL',\n",
       " 'ABP',\n",
       " 'ABT',\n",
       " 'ACCSSoneoneninesix',\n",
       " 'ACCSSoneoneninesixS',\n",
       " 'ACS']"
      ]
     },
     "execution_count": 138,
     "metadata": {},
     "output_type": "execute_result"
    }
   ],
   "source": [
    "# String split base part number. PNs are of format C11-1010-23124, we want the first part (C11)\n",
    "BasePNList = [x.split(\"-\")[0] for x in ItemPartNumberList]\n",
    "\n",
    "# Convert numerics to text\n",
    "BasePNList = [w.replace('0', 'zero') for w in BasePNList]\n",
    "BasePNList = [w.replace('1', 'one') for w in BasePNList]\n",
    "BasePNList = [w.replace('2', 'two') for w in BasePNList]\n",
    "BasePNList = [w.replace('3', 'three') for w in BasePNList]\n",
    "BasePNList = [w.replace('4', 'four') for w in BasePNList]\n",
    "BasePNList = [w.replace('5', 'five') for w in BasePNList]\n",
    "BasePNList = [w.replace('6', 'six') for w in BasePNList]\n",
    "BasePNList = [w.replace('7', 'seven') for w in BasePNList]\n",
    "BasePNList = [w.replace('8', 'eight') for w in BasePNList]\n",
    "BasePNList = [w.replace('9', 'nine') for w in BasePNList]\n",
    "BasePNList[0:10]"
   ]
  },
  {
   "cell_type": "code",
   "execution_count": 139,
   "metadata": {},
   "outputs": [
    {
     "data": {
      "text/plain": [
       "['aahzerozero',\n",
       " 'aar',\n",
       " 'aba',\n",
       " 'abh',\n",
       " 'abl',\n",
       " 'abp',\n",
       " 'abt',\n",
       " 'accssoneoneninesix',\n",
       " 'accssoneoneninesixs',\n",
       " 'acs']"
      ]
     },
     "execution_count": 139,
     "metadata": {},
     "output_type": "execute_result"
    }
   ],
   "source": [
    "BasePNList = [re.sub('[^A-Za-z]', ' ', e) for e in BasePNList] # Remove all non-letter characters\n",
    "BasePNList = [re.sub('\\s+', ' ', e).strip().lower() for e in BasePNList] # Strip excess whitespace and lower case\n",
    "BasePNList[0:10]"
   ]
  },
  {
   "cell_type": "code",
   "execution_count": 140,
   "metadata": {},
   "outputs": [
    {
     "data": {
      "text/plain": [
       "['aahzerozero air cleaner band',\n",
       " 'aar odx al tube',\n",
       " 'aba al tube od',\n",
       " 'abh odx al tube',\n",
       " 'abl od al tube',\n",
       " 'abp od al tube',\n",
       " 'abt od al tube',\n",
       " 'accssoneoneninesix wheel safety svce manual',\n",
       " 'accssoneoneninesixs whl serv manual spanish',\n",
       " 'acs aluminum coil stock all']"
      ]
     },
     "execution_count": 140,
     "metadata": {},
     "output_type": "execute_result"
    }
   ],
   "source": [
    "# Append the base p/n to part description\n",
    "sep = [\" \"] * len(BasePNList)\n",
    "new_sentences = [x + y + z for x, y, z in zip(BasePNList, sep, new_sentences)]\n",
    "new_sentences[0:10]"
   ]
  },
  {
   "cell_type": "markdown",
   "metadata": {},
   "source": [
    "### Drop Infrequent Terms\n",
    "Filter out words below an occurence threshold. We will apply this filter to our sentences by replacing \"new_word\" in our wordReplacement_map dict with a blank."
   ]
  },
  {
   "cell_type": "code",
   "execution_count": 141,
   "metadata": {},
   "outputs": [],
   "source": [
    "# Extract the new words into a list, then count the occurences\n",
    "newWordList = \" \".join(new_sentences).split()\n",
    "newCounts = Counter(newWordList)\n",
    "\n",
    "## Convert counter to data frame and sort occurence\n",
    "newwordcount = pd.DataFrame.from_dict(newCounts, orient='index').reset_index()\n",
    "newwordcount = newwordcount.rename(columns={'index':'word', 0:'count'})\n",
    "## Sort in descending order of count and reset index\n",
    "newwordcount = newwordcount.sort_values('count', ascending=False).reset_index(drop = True)\n",
    "## Check it out\n",
    "newwordcount.head()\n",
    "\n",
    "# Build a word to frequency map\n",
    "wordFreq_map = {}\n",
    "## Generate new list using word as key and count as value\n",
    "for record in range(0, (len(newwordcount))):\n",
    "    word = newwordcount.iloc[record]['word']\n",
    "    count = newwordcount.iloc[record]['count']\n",
    "    wordFreq_map[word] = count"
   ]
  },
  {
   "cell_type": "code",
   "execution_count": 142,
   "metadata": {},
   "outputs": [
    {
     "data": {
      "image/png": "[encoded data removed]",
      "text/plain": [
       "<matplotlib.figure.Figure at 0x7fb25103e9b0>"
      ]
     },
     "metadata": {},
     "output_type": "display_data"
    }
   ],
   "source": [
    "# Plot occurences \n",
    "plt.hist(newwordcount['count'])\n",
    "plt.yscale('log', nonposy='clip')\n",
    "plt.show()"
   ]
  },
  {
   "cell_type": "markdown",
   "metadata": {},
   "source": [
    "Now that we have a map of word-to-frequency, let's run back through the sentences and drop words below some occurence threshold."
   ]
  },
  {
   "cell_type": "code",
   "execution_count": 143,
   "metadata": {},
   "outputs": [],
   "source": [
    "# Apply mappings to sentences using the above map.\n",
    "## Initiate an empty list to catch the new sentences\n",
    "final_sentences = []\n",
    "## Set a threshold for occurence\n",
    "occurence_threshold = 30\n",
    "\n",
    "## Loop through sentences and replace words\n",
    "for sent in new_sentences:\n",
    "    # Tokenize the sentence\n",
    "    tokenized_sent = sent.split()\n",
    "    \n",
    "    # Prep an empty sentence to reconstruct the tokenized sentence with only frequent terms\n",
    "    temp_sent = []\n",
    "    \n",
    "    # Loop through each word in the sentence\n",
    "    for word in tokenized_sent:\n",
    "        # Get the word frequency\n",
    "        word_freq = wordFreq_map[word]\n",
    "        # Add word back into sentence only if it passes the threshold for freq.\n",
    "        if word_freq >= occurence_threshold:\n",
    "            temp_sent.append(word)\n",
    "        # else:\n",
    "            # print(\"Dropping word:\", word, \"with frequency \", word_freq)\n",
    "    \n",
    "    # Make sure that we didn't remove all words from a sentence. If we did, we will use the original sentence\n",
    "    if len(temp_sent) == 0:\n",
    "        # print(\"Drop sentence\")\n",
    "        continue\n",
    "        # temp_sent = tokenized_sent\n",
    "        # print(\"Word drop override\")\n",
    "\n",
    "    # Collapse tokenized sentence\n",
    "    temp_sent = \" \".join(temp_sent)\n",
    "    # Join to final sentences list\n",
    "    final_sentences.append(temp_sent)"
   ]
  },
  {
   "cell_type": "code",
   "execution_count": 144,
   "metadata": {},
   "outputs": [
    {
     "data": {
      "image/png": "[encoded data removed]",
      "text/plain": [
       "<matplotlib.figure.Figure at 0x7fb21eb89b00>"
      ]
     },
     "metadata": {},
     "output_type": "display_data"
    }
   ],
   "source": [
    "# Extract the new words into a list, then count the occurences\n",
    "finalWordList = \" \".join(final_sentences).split()\n",
    "finalCounts = Counter(finalWordList)\n",
    "\n",
    "## Convert counter to data frame and sort occurence\n",
    "newwordcount = pd.DataFrame.from_dict(finalCounts, orient='index').reset_index()\n",
    "newwordcount = newwordcount.rename(columns={'index':'word', 0:'count'})\n",
    "## Sort in descending order of count and reset index\n",
    "newwordcount = newwordcount.sort_values('count', ascending=False).reset_index(drop = True)\n",
    "## Check it out\n",
    "newwordcount.head()\n",
    "\n",
    "# Build a word to frequency map\n",
    "wordFreq_map = {}\n",
    "## Generate new list using word as key and count as value\n",
    "for record in range(0, (len(newwordcount))):\n",
    "    word = newwordcount.iloc[record]['word']\n",
    "    count = newwordcount.iloc[record]['count']\n",
    "    wordFreq_map[word] = count\n",
    "    \n",
    "plt.hist(newwordcount['count'])\n",
    "plt.yscale('log', nonposy='clip')\n",
    "plt.show()"
   ]
  },
  {
   "cell_type": "code",
   "execution_count": 145,
   "metadata": {},
   "outputs": [
    {
     "data": {
      "text/plain": [
       "4347"
      ]
     },
     "execution_count": 145,
     "metadata": {},
     "output_type": "execute_result"
    }
   ],
   "source": [
    "len(newwordcount)"
   ]
  },
  {
   "cell_type": "code",
   "execution_count": 146,
   "metadata": {},
   "outputs": [
    {
     "data": {
      "text/html": [
       "<div>\n",
       "<style scoped>\n",
       "    .dataframe tbody tr th:only-of-type {\n",
       "        vertical-align: middle;\n",
       "    }\n",
       "\n",
       "    .dataframe tbody tr th {\n",
       "        vertical-align: top;\n",
       "    }\n",
       "\n",
       "    .dataframe thead th {\n",
       "        text-align: right;\n",
       "    }\n",
       "</style>\n",
       "<table border=\"1\" class=\"dataframe\">\n",
       "  <thead>\n",
       "    <tr style=\"text-align: right;\">\n",
       "      <th></th>\n",
       "      <th>word</th>\n",
       "      <th>count</th>\n",
       "    </tr>\n",
       "  </thead>\n",
       "  <tbody>\n",
       "    <tr>\n",
       "      <th>4340</th>\n",
       "      <td>ends</td>\n",
       "      <td>30</td>\n",
       "    </tr>\n",
       "    <tr>\n",
       "      <th>4341</th>\n",
       "      <td>qmconesixfivefive</td>\n",
       "      <td>30</td>\n",
       "    </tr>\n",
       "    <tr>\n",
       "      <th>4342</th>\n",
       "      <td>leightone</td>\n",
       "      <td>30</td>\n",
       "    </tr>\n",
       "    <tr>\n",
       "      <th>4343</th>\n",
       "      <td>ob</td>\n",
       "      <td>30</td>\n",
       "    </tr>\n",
       "    <tr>\n",
       "      <th>4344</th>\n",
       "      <td>cabwatch</td>\n",
       "      <td>30</td>\n",
       "    </tr>\n",
       "    <tr>\n",
       "      <th>4345</th>\n",
       "      <td>gd</td>\n",
       "      <td>30</td>\n",
       "    </tr>\n",
       "    <tr>\n",
       "      <th>4346</th>\n",
       "      <td>perlux</td>\n",
       "      <td>30</td>\n",
       "    </tr>\n",
       "  </tbody>\n",
       "</table>\n",
       "</div>"
      ],
      "text/plain": [
       "                   word  count\n",
       "4340               ends     30\n",
       "4341  qmconesixfivefive     30\n",
       "4342          leightone     30\n",
       "4343                 ob     30\n",
       "4344           cabwatch     30\n",
       "4345                 gd     30\n",
       "4346             perlux     30"
      ]
     },
     "execution_count": 146,
     "metadata": {},
     "output_type": "execute_result"
    }
   ],
   "source": [
    "newwordcount[4340:]"
   ]
  },
  {
   "cell_type": "code",
   "execution_count": 155,
   "metadata": {},
   "outputs": [
    {
     "name": "stdout",
     "output_type": "stream",
     "text": [
      "      word  count\n",
      "0     seat  20169\n",
      "1      cab  20146\n",
      "2     brkt  20114\n",
      "3  bracket  20103\n",
      "4    eaton  20102\n"
     ]
    },
    {
     "data": {
      "text/plain": [
       "[<matplotlib.lines.Line2D at 0x7fb21e6e2c88>]"
      ]
     },
     "execution_count": 155,
     "metadata": {},
     "output_type": "execute_result"
    },
    {
     "data": {
      "image/png": "[encoded data removed]",
      "text/plain": [
       "<matplotlib.figure.Figure at 0x7fb21df92898>"
      ]
     },
     "metadata": {},
     "output_type": "display_data"
    }
   ],
   "source": [
    "# Inspect most common words\n",
    "print(newwordcount[0:5])\n",
    "\n",
    "# Show cumulative count plot\n",
    "newwordcount['cumcount'] = np.cumsum(newwordcount['count'])\n",
    "plt.plot(newwordcount['cumcount'])"
   ]
  },
  {
   "cell_type": "markdown",
   "metadata": {},
   "source": [
    "### Subsample Frequent Words"
   ]
  },
  {
   "cell_type": "code",
   "execution_count": 148,
   "metadata": {},
   "outputs": [],
   "source": [
    "# Extract the new words into a list, then count the occurences\n",
    "newWordList = \" \".join(final_sentences).split()\n",
    "newCounts = Counter(newWordList)\n",
    "\n",
    "## Convert counter to data frame and sort occurence\n",
    "newwordcount = pd.DataFrame.from_dict(newCounts, orient='index').reset_index()\n",
    "newwordcount = newwordcount.rename(columns={'index':'word', 0:'count'})\n",
    "## Sort in descending order of count and reset index\n",
    "newwordcount = newwordcount.sort_values('count', ascending=False).reset_index(drop = True)\n",
    "## Check it out\n",
    "newwordcount.head()\n",
    "\n",
    "# Build a word to frequency map\n",
    "wordFreq_map = {}\n",
    "## Generate new list using word as key and count as value\n",
    "for record in range(0, (len(newwordcount))):\n",
    "    word = newwordcount.iloc[record]['word']\n",
    "    count = newwordcount.iloc[record]['count']\n",
    "    wordFreq_map[word] = count"
   ]
  },
  {
   "cell_type": "code",
   "execution_count": 149,
   "metadata": {},
   "outputs": [
    {
     "data": {
      "image/png": "[encoded data removed]",
      "text/plain": [
       "<matplotlib.figure.Figure at 0x7fb251868cc0>"
      ]
     },
     "metadata": {},
     "output_type": "display_data"
    }
   ],
   "source": [
    "# Plot occurences \n",
    "plt.hist(newwordcount['count'])\n",
    "plt.yscale('log', nonposy='clip')\n",
    "plt.show()"
   ]
  },
  {
   "cell_type": "code",
   "execution_count": 151,
   "metadata": {},
   "outputs": [],
   "source": [
    "# Apply mappings to sentences using the above map.\n",
    "## Initiate an empty list to catch the new sentences\n",
    "subsampled_sentences = []\n",
    "## Set a threshold for occurence\n",
    "occurence_threshold = 20000"
   ]
  },
  {
   "cell_type": "code",
   "execution_count": 152,
   "metadata": {},
   "outputs": [],
   "source": [
    "## Loop through sentences and replace words\n",
    "for sent in final_sentences:\n",
    "    # print(\"===================\")\n",
    "    # print(sent)\n",
    "    \n",
    "    # Tokenize the sentence\n",
    "    tokenized_sent = sent.split()\n",
    "    \n",
    "    # Prep an empty sentence to reconstruct the tokenized sentence with only frequent terms\n",
    "    temp_sent = []\n",
    "    \n",
    "    # Loop through each word in the sentence\n",
    "    for word in tokenized_sent:\n",
    "        # Get the word frequency\n",
    "        word_freq = wordFreq_map[word]\n",
    "        # Get probability of inclusion\n",
    "        p_inclusion = occurence_threshold / word_freq\n",
    "        rnd_draw = random()\n",
    "        \n",
    "        if rnd_draw < p_inclusion:\n",
    "            temp_sent.append(word)\n",
    "        # else:\n",
    "            # print(\"Dropping word \", word)\n",
    "    # print(temp_sent)\n",
    "    \n",
    "    # Make sure that we didn't remove all words from a sentence. If we did, drop the sentence altogether\n",
    "    if len(temp_sent) == 0:\n",
    "        # print(\"Drop sentence\")\n",
    "        continue\n",
    "\n",
    "    # Collapse tokenized sentence\n",
    "    temp_sent = \" \".join(temp_sent)\n",
    "    # Join to final sentences list\n",
    "    subsampled_sentences.append(temp_sent)"
   ]
  },
  {
   "cell_type": "markdown",
   "metadata": {},
   "source": [
    "Now examing the distribution of word frequencies after sub-sampling"
   ]
  },
  {
   "cell_type": "code",
   "execution_count": 153,
   "metadata": {},
   "outputs": [
    {
     "data": {
      "image/png": "[encoded data removed]",
      "text/plain": [
       "<matplotlib.figure.Figure at 0x7fb253163080>"
      ]
     },
     "metadata": {},
     "output_type": "display_data"
    }
   ],
   "source": [
    "# Extract the new words into a list, then count the occurences\n",
    "finalWordList = \" \".join(subsampled_sentences).split()\n",
    "finalCounts = Counter(finalWordList)\n",
    "\n",
    "## Convert counter to data frame and sort occurence\n",
    "newwordcount = pd.DataFrame.from_dict(finalCounts, orient='index').reset_index()\n",
    "newwordcount = newwordcount.rename(columns={'index':'word', 0:'count'})\n",
    "## Sort in descending order of count and reset index\n",
    "newwordcount = newwordcount.sort_values('count', ascending=False).reset_index(drop = True)\n",
    "## Check it out\n",
    "newwordcount.head()\n",
    "    \n",
    "plt.hist(newwordcount['count'])\n",
    "plt.yscale('log', nonposy='clip')\n",
    "plt.show()"
   ]
  },
  {
   "cell_type": "code",
   "execution_count": 159,
   "metadata": {},
   "outputs": [
    {
     "data": {
      "text/plain": [
       "['aoneone valve',\n",
       " 'aoneone bracket mud flap',\n",
       " 'aoneone mud flap rh',\n",
       " 'aoneone hood pivot top',\n",
       " 'aoneone bracket hood pivot top',\n",
       " 'aoneone frt eng sprt',\n",
       " 'aoneone frt eng sprt',\n",
       " 'aoneone frnt eng supt',\n",
       " 'aoneone bracket frnt eng supt',\n",
       " 'aoneone bracket frnt eng supt']"
      ]
     },
     "execution_count": 159,
     "metadata": {},
     "output_type": "execute_result"
    }
   ],
   "source": [
    "subsampled_sentences[100:110]"
   ]
  },
  {
   "cell_type": "markdown",
   "metadata": {},
   "source": [
    "## Serialize the Results\n",
    "The processed text is now serialized to be picked up by the training notebook."
   ]
  },
  {
   "cell_type": "code",
   "execution_count": 171,
   "metadata": {},
   "outputs": [
    {
     "data": {
      "text/plain": [
       "list"
      ]
     },
     "execution_count": 171,
     "metadata": {},
     "output_type": "execute_result"
    }
   ],
   "source": [
    "type(subsampled_sentences)"
   ]
  },
  {
   "cell_type": "code",
   "execution_count": 175,
   "metadata": {},
   "outputs": [],
   "source": [
    "with open('./tempfiles/cleanParts.pkl', 'wb') as f:\n",
    "   pickle.dump(subsampled_sentences, f)"
   ]
  }
 ],
 "metadata": {
  "kernelspec": {
   "display_name": "Python 3",
   "language": "python",
   "name": "python3"
  },
  "language_info": {
   "codemirror_mode": {
    "name": "ipython",
    "version": 3
   },
   "file_extension": ".py",
   "mimetype": "text/x-python",
   "name": "python",
   "nbconvert_exporter": "python",
   "pygments_lexer": "ipython3",
   "version": "3.5.2"
  }
 },
 "nbformat": 4,
 "nbformat_minor": 2
}
